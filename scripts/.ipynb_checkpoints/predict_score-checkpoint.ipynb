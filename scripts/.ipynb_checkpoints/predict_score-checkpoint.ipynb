{
 "cells": [
  {
   "cell_type": "code",
   "execution_count": 72,
   "metadata": {
    "collapsed": false
   },
   "outputs": [],
   "source": [
    "import pandas as pd\n",
    "\n",
    "df = pd.read_csv('../data/whoscored/whoscored_10000_matches.csv')"
   ]
  },
  {
   "cell_type": "markdown",
   "metadata": {},
   "source": [
    "# 1. DATA CLEANING"
   ]
  },
  {
   "cell_type": "code",
   "execution_count": 73,
   "metadata": {
    "collapsed": false
   },
   "outputs": [
    {
     "name": "stdout",
     "output_type": "stream",
     "text": [
      "all matchs: (9661, 27)\n",
      "all detailed matchs: (761, 27)\n"
     ]
    }
   ],
   "source": [
    "print('all matchs:',df.shape)\n",
    "df = df.loc[df['home_possession'] != 'null']\n",
    "print('all detailed matchs:',df.shape)"
   ]
  },
  {
   "cell_type": "code",
   "execution_count": 74,
   "metadata": {
    "collapsed": false
   },
   "outputs": [],
   "source": [
    "df['match_id']=df['match_report-href'].str.extract('(\\d+)',expand=False).astype(int)\n",
    "df.drop('match_report-href',axis=1,inplace=True)\n",
    "df=df.sort_values(by='match_id', ascending=1)"
   ]
  },
  {
   "cell_type": "code",
   "execution_count": 75,
   "metadata": {
    "collapsed": false
   },
   "outputs": [],
   "source": [
    "df['home_team_id']=df['home_team-href'].str.extract('(\\d+)',expand=False).astype(int)\n",
    "df['away_team_id']=df['away_team-href'].str.extract('(\\d+)',expand=False).astype(int)\n",
    "df.drop(['home_team-href','away_team-href'],axis=1,inplace=True)\n",
    "df['tournament_id']=df['tournament-href'].str.extract('Tournaments\\/(\\d+)',expand=False).astype(int)\n",
    "df.drop(['tournament-href'],axis=1,inplace=True)"
   ]
  },
  {
   "cell_type": "markdown",
   "metadata": {},
   "source": [
    "## 1.1. Inspect Tournament INFO"
   ]
  },
  {
   "cell_type": "code",
   "execution_count": 76,
   "metadata": {
    "collapsed": false
   },
   "outputs": [
    {
     "data": {
      "text/html": [
       "<div>\n",
       "<table border=\"1\" class=\"dataframe\">\n",
       "  <thead>\n",
       "    <tr style=\"text-align: right;\">\n",
       "      <th></th>\n",
       "      <th></th>\n",
       "      <th></th>\n",
       "      <th>match_report</th>\n",
       "    </tr>\n",
       "    <tr>\n",
       "      <th>country</th>\n",
       "      <th>tournament</th>\n",
       "      <th>tournament_id</th>\n",
       "      <th></th>\n",
       "    </tr>\n",
       "  </thead>\n",
       "  <tbody>\n",
       "    <tr>\n",
       "      <th>Brazil</th>\n",
       "      <th>Brasileirão - 2016</th>\n",
       "      <th>95</th>\n",
       "      <td>1</td>\n",
       "    </tr>\n",
       "    <tr>\n",
       "      <th rowspan=\"2\" valign=\"top\">England</th>\n",
       "      <th>Championship - 2016/2017</th>\n",
       "      <th>7</th>\n",
       "      <td>271</td>\n",
       "    </tr>\n",
       "    <tr>\n",
       "      <th>Premier League - 2016/2017</th>\n",
       "      <th>2</th>\n",
       "      <td>8</td>\n",
       "    </tr>\n",
       "    <tr>\n",
       "      <th>Europe</th>\n",
       "      <th>UEFA Super Cup - 2015/2016</th>\n",
       "      <th>62</th>\n",
       "      <td>1</td>\n",
       "    </tr>\n",
       "    <tr>\n",
       "      <th>France</th>\n",
       "      <th>Ligue 1 - 2016/2017</th>\n",
       "      <th>22</th>\n",
       "      <td>187</td>\n",
       "    </tr>\n",
       "    <tr>\n",
       "      <th>International</th>\n",
       "      <th>European Championship - 2016 - EURO 1/8 Finals</th>\n",
       "      <th>124</th>\n",
       "      <td>2</td>\n",
       "    </tr>\n",
       "    <tr>\n",
       "      <th>Netherlands</th>\n",
       "      <th>Eredivisie - 2016/2017</th>\n",
       "      <th>13</th>\n",
       "      <td>153</td>\n",
       "    </tr>\n",
       "    <tr>\n",
       "      <th>Russia</th>\n",
       "      <th>Premier League - 2016/2017</th>\n",
       "      <th>77</th>\n",
       "      <td>136</td>\n",
       "    </tr>\n",
       "    <tr>\n",
       "      <th>Spain</th>\n",
       "      <th>Supercopa de Espana - 2015/2016</th>\n",
       "      <th>61</th>\n",
       "      <td>2</td>\n",
       "    </tr>\n",
       "  </tbody>\n",
       "</table>\n",
       "</div>"
      ],
      "text/plain": [
       "                                                                            match_report\n",
       "country       tournament                                     tournament_id              \n",
       "Brazil        Brasileirão - 2016                             95                        1\n",
       "England       Championship - 2016/2017                       7                       271\n",
       "              Premier League - 2016/2017                     2                         8\n",
       "Europe        UEFA Super Cup - 2015/2016                     62                        1\n",
       "France        Ligue 1 - 2016/2017                            22                      187\n",
       "International European Championship - 2016 - EURO 1/8 Finals 124                       2\n",
       "Netherlands   Eredivisie - 2016/2017                         13                      153\n",
       "Russia        Premier League - 2016/2017                     77                      136\n",
       "Spain         Supercopa de Espana - 2015/2016                61                        2"
      ]
     },
     "execution_count": 76,
     "metadata": {},
     "output_type": "execute_result"
    }
   ],
   "source": [
    "df[['match_report','tournament','tournament_id','country']].groupby(['country','tournament','tournament_id']).count()"
   ]
  },
  {
   "cell_type": "markdown",
   "metadata": {},
   "source": [
    "### only process tournment England Championahip (252)"
   ]
  },
  {
   "cell_type": "code",
   "execution_count": 77,
   "metadata": {
    "collapsed": false
   },
   "outputs": [],
   "source": [
    "df = df.loc[df['tournament_id'] == 7]"
   ]
  },
  {
   "cell_type": "markdown",
   "metadata": {},
   "source": [
    "## 1.2. convert percentage to fraction"
   ]
  },
  {
   "cell_type": "code",
   "execution_count": 78,
   "metadata": {
    "collapsed": false
   },
   "outputs": [],
   "source": [
    "import numpy as np\n",
    "df['away_possession']=df['away_possession'].replace('%','',regex=True).astype('float')/100\n",
    "df['home_possession']=df['home_possession'].replace('%','',regex=True).astype('float')/100\n",
    "df['away_aerial_duel_success']=df['away_aerial_duel_success'].replace('%','',regex=True).astype('float')/100\n",
    "df['home_aerial_duel_success']=df['home_aerial_duel_success'].replace('%','',regex=True).astype('float')/100\n",
    "df['home_pass_success']=df['home_pass_success'].replace('%','',regex=True).astype('float')/100\n",
    "df['away_pass_success']=df['away_pass_success'].replace('%','',regex=True).astype('float')/100"
   ]
  },
  {
   "cell_type": "markdown",
   "metadata": {},
   "source": [
    "## 1.3. extract home and away goal"
   ]
  },
  {
   "cell_type": "code",
   "execution_count": 79,
   "metadata": {
    "collapsed": false
   },
   "outputs": [],
   "source": [
    "df_ht=df['half_time'].str.split(':',expand=True)\n",
    "df_ht.columns=['home_half_time_goal','away_half_time_goal']\n",
    "df_ft=df['full_time'].str.split(':',expand=True)\n",
    "df_ft.columns=['home_full_time_goal','away_full_time_goal']\n",
    "\n",
    "df = pd.concat([df, df_ht], axis=1, join_axes=[df.index])\n",
    "df = pd.concat([df, df_ft], axis=1, join_axes=[df.index])"
   ]
  },
  {
   "cell_type": "markdown",
   "metadata": {},
   "source": [
    "## 1.4. change data type to integer"
   ]
  },
  {
   "cell_type": "code",
   "execution_count": 80,
   "metadata": {
    "collapsed": false
   },
   "outputs": [],
   "source": [
    "df['home_full_time_goal']=df['home_full_time_goal'].astype(int)\n",
    "df['away_full_time_goal']=df['away_full_time_goal'].astype(int)\n",
    "df['home_half_time_goal']=df['home_half_time_goal'].astype(int)\n",
    "df['away_half_time_goal']=df['away_half_time_goal'].astype(int)\n",
    "df['home_shots']=df['home_shots'].astype(int)\n",
    "df['away_shots']=df['away_shots'].astype(int)\n",
    "df['home_shots_on_target']=df['home_shots_on_target'].astype(int)\n",
    "df['away_shots_on_target']=df['away_shots_on_target'].astype(int)\n",
    "df['home_dribbles_won']=df['home_dribbles_won'].astype(int)\n",
    "df['away_dribbles_won']=df['away_dribbles_won'].astype(int)\n",
    "df['home_tackles']=df['home_tackles'].astype(int)\n",
    "df['away_tackles']=df['away_tackles'].astype(int)"
   ]
  },
  {
   "cell_type": "markdown",
   "metadata": {},
   "source": [
    "# 2. feature engineering\n",
    "## 2.1. find goal difference"
   ]
  },
  {
   "cell_type": "code",
   "execution_count": 81,
   "metadata": {
    "collapsed": true
   },
   "outputs": [],
   "source": [
    "df['half_time_goal_diff']=df['home_half_time_goal']-df['away_half_time_goal']\n",
    "df['full_time_goal_diff']=df['home_full_time_goal']-df['away_full_time_goal']"
   ]
  },
  {
   "cell_type": "markdown",
   "metadata": {},
   "source": [
    "# 3. Training"
   ]
  },
  {
   "cell_type": "code",
   "execution_count": 82,
   "metadata": {
    "collapsed": false
   },
   "outputs": [
    {
     "data": {
      "text/html": [
       "<div>\n",
       "<table border=\"1\" class=\"dataframe\">\n",
       "  <thead>\n",
       "    <tr style=\"text-align: right;\">\n",
       "      <th></th>\n",
       "      <th>home_shots</th>\n",
       "      <th>home_shots_on_target</th>\n",
       "      <th>home_pass_success</th>\n",
       "      <th>home_aerial_duel_success</th>\n",
       "      <th>home_dribbles_won</th>\n",
       "      <th>home_tackles</th>\n",
       "      <th>home_possession</th>\n",
       "      <th>home_half_time_goal</th>\n",
       "      <th>home_full_time_goal</th>\n",
       "    </tr>\n",
       "    <tr>\n",
       "      <th>home_team_id</th>\n",
       "      <th></th>\n",
       "      <th></th>\n",
       "      <th></th>\n",
       "      <th></th>\n",
       "      <th></th>\n",
       "      <th></th>\n",
       "      <th></th>\n",
       "      <th></th>\n",
       "      <th></th>\n",
       "    </tr>\n",
       "  </thead>\n",
       "  <tbody>\n",
       "    <tr>\n",
       "      <th>19</th>\n",
       "      <td>10.916667</td>\n",
       "      <td>3.666667</td>\n",
       "      <td>0.741667</td>\n",
       "      <td>0.455000</td>\n",
       "      <td>8.500000</td>\n",
       "      <td>19.333333</td>\n",
       "      <td>0.485833</td>\n",
       "      <td>0.416667</td>\n",
       "      <td>1.250000</td>\n",
       "    </tr>\n",
       "    <tr>\n",
       "      <th>20</th>\n",
       "      <td>14.818182</td>\n",
       "      <td>4.363636</td>\n",
       "      <td>0.773636</td>\n",
       "      <td>0.510909</td>\n",
       "      <td>8.454545</td>\n",
       "      <td>15.090909</td>\n",
       "      <td>0.530909</td>\n",
       "      <td>0.272727</td>\n",
       "      <td>0.727273</td>\n",
       "    </tr>\n",
       "    <tr>\n",
       "      <th>23</th>\n",
       "      <td>15.600000</td>\n",
       "      <td>5.200000</td>\n",
       "      <td>0.790000</td>\n",
       "      <td>0.493000</td>\n",
       "      <td>6.600000</td>\n",
       "      <td>15.800000</td>\n",
       "      <td>0.595000</td>\n",
       "      <td>0.900000</td>\n",
       "      <td>2.200000</td>\n",
       "    </tr>\n",
       "    <tr>\n",
       "      <th>24</th>\n",
       "      <td>12.750000</td>\n",
       "      <td>4.750000</td>\n",
       "      <td>0.735000</td>\n",
       "      <td>0.567500</td>\n",
       "      <td>9.166667</td>\n",
       "      <td>18.083333</td>\n",
       "      <td>0.480000</td>\n",
       "      <td>0.666667</td>\n",
       "      <td>1.583333</td>\n",
       "    </tr>\n",
       "    <tr>\n",
       "      <th>25</th>\n",
       "      <td>16.363636</td>\n",
       "      <td>4.363636</td>\n",
       "      <td>0.793636</td>\n",
       "      <td>0.504545</td>\n",
       "      <td>6.909091</td>\n",
       "      <td>13.363636</td>\n",
       "      <td>0.584545</td>\n",
       "      <td>0.454545</td>\n",
       "      <td>1.454545</td>\n",
       "    </tr>\n",
       "  </tbody>\n",
       "</table>\n",
       "</div>"
      ],
      "text/plain": [
       "              home_shots  home_shots_on_target  home_pass_success  \\\n",
       "home_team_id                                                        \n",
       "19             10.916667              3.666667           0.741667   \n",
       "20             14.818182              4.363636           0.773636   \n",
       "23             15.600000              5.200000           0.790000   \n",
       "24             12.750000              4.750000           0.735000   \n",
       "25             16.363636              4.363636           0.793636   \n",
       "\n",
       "              home_aerial_duel_success  home_dribbles_won  home_tackles  \\\n",
       "home_team_id                                                              \n",
       "19                            0.455000           8.500000     19.333333   \n",
       "20                            0.510909           8.454545     15.090909   \n",
       "23                            0.493000           6.600000     15.800000   \n",
       "24                            0.567500           9.166667     18.083333   \n",
       "25                            0.504545           6.909091     13.363636   \n",
       "\n",
       "              home_possession  home_half_time_goal  home_full_time_goal  \n",
       "home_team_id                                                             \n",
       "19                   0.485833             0.416667             1.250000  \n",
       "20                   0.530909             0.272727             0.727273  \n",
       "23                   0.595000             0.900000             2.200000  \n",
       "24                   0.480000             0.666667             1.583333  \n",
       "25                   0.584545             0.454545             1.454545  "
      ]
     },
     "execution_count": 82,
     "metadata": {},
     "output_type": "execute_result"
    }
   ],
   "source": [
    "home_input_columns=['home_team','home_shots','home_shots_on_target',\n",
    "       'home_pass_success', \n",
    "       'home_aerial_duel_success', \n",
    "       'home_dribbles_won', 'home_tackles',\n",
    "       'home_possession', \n",
    "       'home_team_id', 'home_half_time_goal',\n",
    "       'home_full_time_goal']\n",
    "\n",
    "away_input_columns=['away_shots', \n",
    "       'away_shots_on_target', 'away_pass_success',\n",
    "       'away_aerial_duel_success',\n",
    "       'away_dribbles_won',\n",
    "       'away_tackles', 'away_possession', \n",
    "       'away_team_id', \n",
    "       'away_half_time_goal', 'away_full_time_goal']\n",
    "\n",
    "\n",
    "home_team_info=df[home_input_columns].groupby('home_team_id').mean()\n",
    "away_team_info=df[away_input_columns].groupby('away_team_id').mean()\n",
    "home_team_info.head()"
   ]
  },
  {
   "cell_type": "markdown",
   "metadata": {},
   "source": [
    "## 3.1. prepare training set and test set"
   ]
  },
  {
   "cell_type": "code",
   "execution_count": 83,
   "metadata": {
    "collapsed": false
   },
   "outputs": [],
   "source": [
    "from sklearn.linear_model import LinearRegression\n",
    "from sklearn.model_selection import train_test_split\n",
    "from sklearn.metrics import mean_absolute_error\n",
    "\n",
    "train_columns=['home_shots', 'away_shots', 'home_shots_on_target',\n",
    "       'away_shots_on_target', 'home_pass_success', 'away_pass_success',\n",
    "       'home_aerial_duel_success', 'away_aerial_duel_success',\n",
    "       'home_dribbles_won', 'away_dribbles_won', 'home_tackles',\n",
    "       'away_tackles', 'home_possession', 'away_possession']\n",
    "target_column='full_time_goal_diff'\n",
    "team_id_columns=['home_team_id','away_team_id']\n",
    "\n",
    "#train_df, test_df = train_test_split(df[train_columns + [target_column] + team_id_columns], test_size = 0.2)\n",
    "train_size=int(df.shape[0]*0.8)\n",
    "\n",
    "train_df = df[train_columns + [target_column] + team_id_columns][:train_size]\n",
    "test_df = df[train_columns + [target_column] + team_id_columns][train_size:]\n",
    "train_x_df = train_df[train_columns]\n",
    "train_y_df = train_df[target_column]\n",
    "test_x_df = test_df[train_columns]\n",
    "test_y_df = test_df[target_column]"
   ]
  },
  {
   "cell_type": "markdown",
   "metadata": {},
   "source": [
    "## 3.2. linear regression"
   ]
  },
  {
   "cell_type": "code",
   "execution_count": 84,
   "metadata": {
    "collapsed": false
   },
   "outputs": [
    {
     "name": "stdout",
     "output_type": "stream",
     "text": [
      "Coefficients: \n",
      " [ -7.65659913e-02   3.64636509e-02   3.78205490e-01  -3.25834696e-01\n",
      "   2.92556882e+00  -2.77254417e+00   8.95849679e+01   8.76752639e+01\n",
      "   4.78179929e-02  -1.29729771e-02  -5.29442835e-03  -2.33582235e-02\n",
      "  -2.31622183e+00   2.31622183e+00]\n",
      "Mean squared error: 2.29\n",
      "Variance score: 0.24\n",
      "Mean absolute error: 1.19\n"
     ]
    }
   ],
   "source": [
    "regr = LinearRegression()\n",
    "regr.fit(train_x_df, train_y_df)\n",
    "print('Coefficients: \\n', regr.coef_)\n",
    "print(\"Mean squared error: %.2f\" % np.mean((regr.predict(test_x_df) - test_y_df) ** 2))\n",
    "# Explained variance score: 1 is perfect prediction\n",
    "print('Variance score: %.2f' % regr.score(test_x_df, test_y_df))\n",
    "print('Mean absolute error: %.2f' % mean_absolute_error(test_y_df,regr.predict(test_x_df)))\n"
   ]
  },
  {
   "cell_type": "markdown",
   "metadata": {},
   "source": [
    "## 3.3. Lasso"
   ]
  },
  {
   "cell_type": "code",
   "execution_count": 85,
   "metadata": {
    "collapsed": false
   },
   "outputs": [
    {
     "name": "stdout",
     "output_type": "stream",
     "text": [
      "Coefficients: \n",
      " [-0.07660583  0.01893548  0.35922228 -0.30254256 -0.          0.          0.\n",
      " -0.          0.03849625 -0.00663751  0.0011944  -0.02509936 -0.          0.        ]\n",
      "Mean squared error: 2.24\n",
      "Variance score: 0.26\n",
      "Mean absolute error: 1.23\n"
     ]
    }
   ],
   "source": [
    "from sklearn.linear_model import Lasso\n",
    "clf = Lasso(alpha=0.1)\n",
    "clf.fit(train_x_df, train_y_df)\n",
    "\n",
    "print('Coefficients: \\n', clf.coef_)\n",
    "print(\"Mean squared error: %.2f\" % np.mean((clf.predict(test_x_df) - test_y_df) ** 2))\n",
    "# Explained variance score: 1 is perfect prediction\n",
    "print('Variance score: %.2f' % clf.score(test_x_df, test_y_df))\n",
    "print('Mean absolute error: %.2f' % mean_absolute_error(test_y_df,clf.predict(test_x_df)))\n",
    "\n"
   ]
  },
  {
   "cell_type": "markdown",
   "metadata": {},
   "source": [
    "## 3.4. Elastic Net"
   ]
  },
  {
   "cell_type": "code",
   "execution_count": 86,
   "metadata": {
    "collapsed": false
   },
   "outputs": [
    {
     "name": "stdout",
     "output_type": "stream",
     "text": [
      "Coefficients: \n",
      " [-0.08223228  0.0257419   0.37267927 -0.3193197  -0.          0.          0.\n",
      " -0.          0.04375136 -0.01105166  0.00246268 -0.0270821  -0.          0.        ]\n",
      "Mean squared error: 2.24\n",
      "Variance score: 0.26\n",
      "Mean absolute error: 1.23\n"
     ]
    }
   ],
   "source": [
    "from sklearn.linear_model import ElasticNet\n",
    "\n",
    "enf = ElasticNet(alpha=0.1)\n",
    "enf.fit(train_x_df, train_y_df)\n",
    "\n",
    "print('Coefficients: \\n', enf.coef_)\n",
    "print(\"Mean squared error: %.2f\" % np.mean((enf.predict(test_x_df) - test_y_df) ** 2))\n",
    "# Explained variance score: 1 is perfect prediction\n",
    "print('Variance score: %.2f' % enf.score(test_x_df, test_y_df))\n",
    "print('Mean absolute error: %.2f' % mean_absolute_error(test_y_df,enf.predict(test_x_df)))"
   ]
  },
  {
   "cell_type": "markdown",
   "metadata": {},
   "source": [
    "# 4. Prediction\n",
    "## 4.1. Whoscored Team ID INFO"
   ]
  },
  {
   "cell_type": "code",
   "execution_count": 87,
   "metadata": {
    "collapsed": false
   },
   "outputs": [
    {
     "name": "stdout",
     "output_type": "stream",
     "text": [
      "19 : Leeds\n",
      "20 : Derby\n",
      "23 : Newcastle\n",
      "24 : Aston Villa\n",
      "25 : Sheff Wed\n",
      "94 : Reading\n",
      "142 : Barnsley\n",
      "157 : Birmingham\n",
      "158 : Blackburn\n",
      "161 : Wolves\n",
      "165 : Ipswich\n",
      "166 : Huddersfield\n",
      "168 : Norwich\n",
      "170 : Fulham\n",
      "171 : QPR\n",
      "174 : Nottingham Forest\n",
      "181 : Preston\n",
      "182 : Bristol City\n",
      "188 : Cardiff\n",
      "189 : Brentford\n",
      "194 : Wigan\n",
      "210 : Rotherham\n",
      "211 : Brighton\n"
     ]
    }
   ],
   "source": [
    "home_team_id_map=df.groupby(['home_team_id','home_team']).count().reset_index()[['home_team_id','home_team']]\n",
    "away_team_id_map=df.groupby(['away_team_id','away_team']).count().reset_index()[['away_team_id','away_team']]\n",
    "\n",
    "\n",
    "def team_id_to_name(team_id):\n",
    "    away_team_id_name=away_team_id_map.loc[away_team_id_map['away_team_id']==team_id]    \n",
    "    if away_team_id_name.size > 0:\n",
    "        return away_team_id_name['away_team'].values[0]\n",
    "    \n",
    "    home_team_id_name=home_team_id_map.loc[home_team_id_map['home_team_id']==team_id]\n",
    "    if home_team_id_name.size > 0:\n",
    "        return home_team_id_name['home_team'].values[0]\n",
    "    return None\n",
    "\n",
    "for team_id in range(0, 1000):\n",
    "    team_name = team_id_to_name(team_id)\n",
    "    if team_name is not None:\n",
    "        print(str(team_id),':',team_id_to_name(team_id))"
   ]
  },
  {
   "cell_type": "code",
   "execution_count": 88,
   "metadata": {
    "collapsed": false
   },
   "outputs": [
    {
     "data": {
      "text/html": [
       "<div>\n",
       "<table border=\"1\" class=\"dataframe\">\n",
       "  <thead>\n",
       "    <tr style=\"text-align: right;\">\n",
       "      <th></th>\n",
       "      <th>home_shots</th>\n",
       "      <th>home_shots_on_target</th>\n",
       "      <th>home_pass_success</th>\n",
       "      <th>home_aerial_duel_success</th>\n",
       "      <th>home_dribbles_won</th>\n",
       "      <th>home_tackles</th>\n",
       "      <th>home_possession</th>\n",
       "      <th>home_half_time_goal</th>\n",
       "      <th>home_full_time_goal</th>\n",
       "    </tr>\n",
       "    <tr>\n",
       "      <th>home_team_id</th>\n",
       "      <th></th>\n",
       "      <th></th>\n",
       "      <th></th>\n",
       "      <th></th>\n",
       "      <th></th>\n",
       "      <th></th>\n",
       "      <th></th>\n",
       "      <th></th>\n",
       "      <th></th>\n",
       "    </tr>\n",
       "  </thead>\n",
       "  <tbody>\n",
       "    <tr>\n",
       "      <th>19</th>\n",
       "      <td>10.916667</td>\n",
       "      <td>3.666667</td>\n",
       "      <td>0.741667</td>\n",
       "      <td>0.455000</td>\n",
       "      <td>8.500000</td>\n",
       "      <td>19.333333</td>\n",
       "      <td>0.485833</td>\n",
       "      <td>0.416667</td>\n",
       "      <td>1.250000</td>\n",
       "    </tr>\n",
       "    <tr>\n",
       "      <th>20</th>\n",
       "      <td>14.818182</td>\n",
       "      <td>4.363636</td>\n",
       "      <td>0.773636</td>\n",
       "      <td>0.510909</td>\n",
       "      <td>8.454545</td>\n",
       "      <td>15.090909</td>\n",
       "      <td>0.530909</td>\n",
       "      <td>0.272727</td>\n",
       "      <td>0.727273</td>\n",
       "    </tr>\n",
       "    <tr>\n",
       "      <th>23</th>\n",
       "      <td>15.600000</td>\n",
       "      <td>5.200000</td>\n",
       "      <td>0.790000</td>\n",
       "      <td>0.493000</td>\n",
       "      <td>6.600000</td>\n",
       "      <td>15.800000</td>\n",
       "      <td>0.595000</td>\n",
       "      <td>0.900000</td>\n",
       "      <td>2.200000</td>\n",
       "    </tr>\n",
       "    <tr>\n",
       "      <th>24</th>\n",
       "      <td>12.750000</td>\n",
       "      <td>4.750000</td>\n",
       "      <td>0.735000</td>\n",
       "      <td>0.567500</td>\n",
       "      <td>9.166667</td>\n",
       "      <td>18.083333</td>\n",
       "      <td>0.480000</td>\n",
       "      <td>0.666667</td>\n",
       "      <td>1.583333</td>\n",
       "    </tr>\n",
       "    <tr>\n",
       "      <th>25</th>\n",
       "      <td>16.363636</td>\n",
       "      <td>4.363636</td>\n",
       "      <td>0.793636</td>\n",
       "      <td>0.504545</td>\n",
       "      <td>6.909091</td>\n",
       "      <td>13.363636</td>\n",
       "      <td>0.584545</td>\n",
       "      <td>0.454545</td>\n",
       "      <td>1.454545</td>\n",
       "    </tr>\n",
       "  </tbody>\n",
       "</table>\n",
       "</div>"
      ],
      "text/plain": [
       "              home_shots  home_shots_on_target  home_pass_success  \\\n",
       "home_team_id                                                        \n",
       "19             10.916667              3.666667           0.741667   \n",
       "20             14.818182              4.363636           0.773636   \n",
       "23             15.600000              5.200000           0.790000   \n",
       "24             12.750000              4.750000           0.735000   \n",
       "25             16.363636              4.363636           0.793636   \n",
       "\n",
       "              home_aerial_duel_success  home_dribbles_won  home_tackles  \\\n",
       "home_team_id                                                              \n",
       "19                            0.455000           8.500000     19.333333   \n",
       "20                            0.510909           8.454545     15.090909   \n",
       "23                            0.493000           6.600000     15.800000   \n",
       "24                            0.567500           9.166667     18.083333   \n",
       "25                            0.504545           6.909091     13.363636   \n",
       "\n",
       "              home_possession  home_half_time_goal  home_full_time_goal  \n",
       "home_team_id                                                             \n",
       "19                   0.485833             0.416667             1.250000  \n",
       "20                   0.530909             0.272727             0.727273  \n",
       "23                   0.595000             0.900000             2.200000  \n",
       "24                   0.480000             0.666667             1.583333  \n",
       "25                   0.584545             0.454545             1.454545  "
      ]
     },
     "execution_count": 88,
     "metadata": {},
     "output_type": "execute_result"
    }
   ],
   "source": [
    "home_team_info.head()"
   ]
  },
  {
   "cell_type": "markdown",
   "metadata": {},
   "source": [
    "## 4.2. Test Prediction"
   ]
  },
  {
   "cell_type": "code",
   "execution_count": 89,
   "metadata": {
    "collapsed": false
   },
   "outputs": [
    {
     "data": {
      "text/html": [
       "<div>\n",
       "<table border=\"1\" class=\"dataframe\">\n",
       "  <thead>\n",
       "    <tr style=\"text-align: right;\">\n",
       "      <th></th>\n",
       "      <th>home_team_id</th>\n",
       "      <th>home_shots</th>\n",
       "      <th>home_shots_on_target</th>\n",
       "      <th>home_pass_success</th>\n",
       "      <th>home_aerial_duel_success</th>\n",
       "      <th>home_dribbles_won</th>\n",
       "      <th>home_tackles</th>\n",
       "      <th>home_possession</th>\n",
       "      <th>home_half_time_goal</th>\n",
       "      <th>home_full_time_goal</th>\n",
       "    </tr>\n",
       "  </thead>\n",
       "  <tbody>\n",
       "    <tr>\n",
       "      <th>0</th>\n",
       "      <td>19</td>\n",
       "      <td>10.916667</td>\n",
       "      <td>3.666667</td>\n",
       "      <td>0.741667</td>\n",
       "      <td>0.455</td>\n",
       "      <td>8.5</td>\n",
       "      <td>19.333333</td>\n",
       "      <td>0.485833</td>\n",
       "      <td>0.416667</td>\n",
       "      <td>1.25</td>\n",
       "    </tr>\n",
       "  </tbody>\n",
       "</table>\n",
       "</div>"
      ],
      "text/plain": [
       "   home_team_id  home_shots  home_shots_on_target  home_pass_success  \\\n",
       "0            19   10.916667              3.666667           0.741667   \n",
       "\n",
       "   home_aerial_duel_success  home_dribbles_won  home_tackles  home_possession  \\\n",
       "0                     0.455                8.5     19.333333         0.485833   \n",
       "\n",
       "   home_half_time_goal  home_full_time_goal  \n",
       "0             0.416667                 1.25  "
      ]
     },
     "execution_count": 89,
     "metadata": {},
     "output_type": "execute_result"
    }
   ],
   "source": [
    "#try predict home team 19 vs away team 20\n",
    "home_team_info_1=home_team_info.reset_index()\n",
    "home_team_features=home_team_info_1.loc[home_team_info_1['home_team_id']==19]\n",
    "del home_team_info_1\n",
    "home_team_features"
   ]
  },
  {
   "cell_type": "code",
   "execution_count": 90,
   "metadata": {
    "collapsed": false
   },
   "outputs": [
    {
     "data": {
      "text/html": [
       "<div>\n",
       "<table border=\"1\" class=\"dataframe\">\n",
       "  <thead>\n",
       "    <tr style=\"text-align: right;\">\n",
       "      <th></th>\n",
       "      <th>away_team_id</th>\n",
       "      <th>away_shots</th>\n",
       "      <th>away_shots_on_target</th>\n",
       "      <th>away_pass_success</th>\n",
       "      <th>away_aerial_duel_success</th>\n",
       "      <th>away_dribbles_won</th>\n",
       "      <th>away_tackles</th>\n",
       "      <th>away_possession</th>\n",
       "      <th>away_half_time_goal</th>\n",
       "      <th>away_full_time_goal</th>\n",
       "    </tr>\n",
       "  </thead>\n",
       "  <tbody>\n",
       "    <tr>\n",
       "      <th>1</th>\n",
       "      <td>20</td>\n",
       "      <td>11.0</td>\n",
       "      <td>3.818182</td>\n",
       "      <td>0.744545</td>\n",
       "      <td>0.502727</td>\n",
       "      <td>7.454545</td>\n",
       "      <td>15.363636</td>\n",
       "      <td>0.480909</td>\n",
       "      <td>0.454545</td>\n",
       "      <td>1.090909</td>\n",
       "    </tr>\n",
       "  </tbody>\n",
       "</table>\n",
       "</div>"
      ],
      "text/plain": [
       "   away_team_id  away_shots  away_shots_on_target  away_pass_success  \\\n",
       "1            20        11.0              3.818182           0.744545   \n",
       "\n",
       "   away_aerial_duel_success  away_dribbles_won  away_tackles  away_possession  \\\n",
       "1                  0.502727           7.454545     15.363636         0.480909   \n",
       "\n",
       "   away_half_time_goal  away_full_time_goal  \n",
       "1             0.454545             1.090909  "
      ]
     },
     "execution_count": 90,
     "metadata": {},
     "output_type": "execute_result"
    }
   ],
   "source": [
    "away_team_info_1=away_team_info.reset_index()\n",
    "away_team_features=away_team_info_1.loc[away_team_info_1['away_team_id']==20]\n",
    "del away_team_info_1\n",
    "away_team_features"
   ]
  },
  {
   "cell_type": "code",
   "execution_count": 91,
   "metadata": {
    "collapsed": false
   },
   "outputs": [
    {
     "data": {
      "text/html": [
       "<div>\n",
       "<table border=\"1\" class=\"dataframe\">\n",
       "  <thead>\n",
       "    <tr style=\"text-align: right;\">\n",
       "      <th></th>\n",
       "      <th>home_shots</th>\n",
       "      <th>away_shots</th>\n",
       "      <th>home_shots_on_target</th>\n",
       "      <th>away_shots_on_target</th>\n",
       "      <th>home_pass_success</th>\n",
       "      <th>away_pass_success</th>\n",
       "      <th>home_aerial_duel_success</th>\n",
       "      <th>away_aerial_duel_success</th>\n",
       "      <th>home_dribbles_won</th>\n",
       "      <th>away_dribbles_won</th>\n",
       "      <th>home_tackles</th>\n",
       "      <th>away_tackles</th>\n",
       "      <th>home_possession</th>\n",
       "      <th>away_possession</th>\n",
       "    </tr>\n",
       "  </thead>\n",
       "  <tbody>\n",
       "    <tr>\n",
       "      <th>0</th>\n",
       "      <td>10.916667</td>\n",
       "      <td>11.0</td>\n",
       "      <td>3.666667</td>\n",
       "      <td>3.818182</td>\n",
       "      <td>0.741667</td>\n",
       "      <td>0.744545</td>\n",
       "      <td>0.455</td>\n",
       "      <td>0.502727</td>\n",
       "      <td>8.5</td>\n",
       "      <td>7.454545</td>\n",
       "      <td>19.333333</td>\n",
       "      <td>15.363636</td>\n",
       "      <td>0.485833</td>\n",
       "      <td>0.480909</td>\n",
       "    </tr>\n",
       "  </tbody>\n",
       "</table>\n",
       "</div>"
      ],
      "text/plain": [
       "   home_shots  away_shots  home_shots_on_target  away_shots_on_target  \\\n",
       "0   10.916667        11.0              3.666667              3.818182   \n",
       "\n",
       "   home_pass_success  away_pass_success  home_aerial_duel_success  \\\n",
       "0           0.741667           0.744545                     0.455   \n",
       "\n",
       "   away_aerial_duel_success  home_dribbles_won  away_dribbles_won  \\\n",
       "0                  0.502727                8.5           7.454545   \n",
       "\n",
       "   home_tackles  away_tackles  home_possession  away_possession  \n",
       "0     19.333333     15.363636         0.485833         0.480909  "
      ]
     },
     "execution_count": 91,
     "metadata": {},
     "output_type": "execute_result"
    }
   ],
   "source": [
    "features = pd.concat([home_team_features.reset_index(), away_team_features.reset_index()], axis=1)[train_columns]\n",
    "features"
   ]
  },
  {
   "cell_type": "code",
   "execution_count": 92,
   "metadata": {
    "collapsed": false
   },
   "outputs": [
    {
     "data": {
      "text/html": [
       "<div>\n",
       "<table border=\"1\" class=\"dataframe\">\n",
       "  <thead>\n",
       "    <tr style=\"text-align: right;\">\n",
       "      <th></th>\n",
       "      <th>home_shots</th>\n",
       "      <th>away_shots</th>\n",
       "      <th>home_shots_on_target</th>\n",
       "      <th>away_shots_on_target</th>\n",
       "      <th>home_pass_success</th>\n",
       "      <th>away_pass_success</th>\n",
       "      <th>home_aerial_duel_success</th>\n",
       "      <th>away_aerial_duel_success</th>\n",
       "      <th>home_dribbles_won</th>\n",
       "      <th>away_dribbles_won</th>\n",
       "      <th>home_tackles</th>\n",
       "      <th>away_tackles</th>\n",
       "      <th>home_possession</th>\n",
       "      <th>away_possession</th>\n",
       "    </tr>\n",
       "  </thead>\n",
       "  <tbody>\n",
       "    <tr>\n",
       "      <th>0</th>\n",
       "      <td>10.916667</td>\n",
       "      <td>11.0</td>\n",
       "      <td>3.666667</td>\n",
       "      <td>3.818182</td>\n",
       "      <td>0.741667</td>\n",
       "      <td>0.744545</td>\n",
       "      <td>0.455</td>\n",
       "      <td>0.502727</td>\n",
       "      <td>8.5</td>\n",
       "      <td>7.454545</td>\n",
       "      <td>19.333333</td>\n",
       "      <td>15.363636</td>\n",
       "      <td>0.502547</td>\n",
       "      <td>0.497453</td>\n",
       "    </tr>\n",
       "  </tbody>\n",
       "</table>\n",
       "</div>"
      ],
      "text/plain": [
       "   home_shots  away_shots  home_shots_on_target  away_shots_on_target  \\\n",
       "0   10.916667        11.0              3.666667              3.818182   \n",
       "\n",
       "   home_pass_success  away_pass_success  home_aerial_duel_success  \\\n",
       "0           0.741667           0.744545                     0.455   \n",
       "\n",
       "   away_aerial_duel_success  home_dribbles_won  away_dribbles_won  \\\n",
       "0                  0.502727                8.5           7.454545   \n",
       "\n",
       "   home_tackles  away_tackles  home_possession  away_possession  \n",
       "0     19.333333     15.363636         0.502547         0.497453  "
      ]
     },
     "execution_count": 92,
     "metadata": {},
     "output_type": "execute_result"
    }
   ],
   "source": [
    "#normalize features\n",
    "features['total_possession']=features['home_possession']+features['away_possession']\n",
    "features['home_possession']=features['home_possession']/features['total_possession']\n",
    "features['away_possession']=features['away_possession']/features['total_possession']\n",
    "features.drop('total_possession',axis=1,inplace=True)\n",
    "features"
   ]
  },
  {
   "cell_type": "code",
   "execution_count": 93,
   "metadata": {
    "collapsed": false
   },
   "outputs": [
    {
     "data": {
      "text/plain": [
       "array([-3.5697853])"
      ]
     },
     "execution_count": 93,
     "metadata": {},
     "output_type": "execute_result"
    }
   ],
   "source": [
    "#test_x_df.head()\n",
    "regr.predict(features)"
   ]
  },
  {
   "cell_type": "markdown",
   "metadata": {},
   "source": [
    "## 4.3. Make prediction with all test data set"
   ]
  },
  {
   "cell_type": "code",
   "execution_count": 94,
   "metadata": {
    "collapsed": true
   },
   "outputs": [],
   "source": [
    "def predict_diff(home_team_id, away_team_id):\n",
    "    home_team_info_1=home_team_info.reset_index()\n",
    "    home_team_features=home_team_info_1.loc[home_team_info_1['home_team_id']==home_team_id]\n",
    "    del home_team_info_1\n",
    "    away_team_info_1=away_team_info.reset_index()\n",
    "    away_team_features=away_team_info_1.loc[away_team_info_1['away_team_id']==away_team_id]\n",
    "    del away_team_info_1\n",
    "    away_team_features\n",
    "    features = pd.concat([home_team_features.reset_index(), away_team_features.reset_index()], axis=1)[train_columns]\n",
    "    features['total_possession']=features['home_possession']+features['away_possession']\n",
    "    features['home_possession']=features['home_possession']/features['total_possession']\n",
    "    features['away_possession']=features['away_possession']/features['total_possession']\n",
    "    features.drop('total_possession',axis=1,inplace=True)\n",
    "    return regr.predict(features)"
   ]
  },
  {
   "cell_type": "code",
   "execution_count": 105,
   "metadata": {
    "collapsed": false
   },
   "outputs": [
    {
     "name": "stderr",
     "output_type": "stream",
     "text": [
      "/usr/local/lib/python3.5/dist-packages/ipykernel/__main__.py:2: SettingWithCopyWarning: \n",
      "A value is trying to be set on a copy of a slice from a DataFrame.\n",
      "Try using .loc[row_indexer,col_indexer] = value instead\n",
      "\n",
      "See the caveats in the documentation: http://pandas.pydata.org/pandas-docs/stable/indexing.html#indexing-view-versus-copy\n",
      "  from ipykernel import kernelapp as app\n"
     ]
    },
    {
     "data": {
      "text/html": [
       "<div>\n",
       "<table border=\"1\" class=\"dataframe\">\n",
       "  <thead>\n",
       "    <tr style=\"text-align: right;\">\n",
       "      <th></th>\n",
       "      <th>home_team_id</th>\n",
       "      <th>away_team_id</th>\n",
       "      <th>full_time_goal_diff</th>\n",
       "      <th>predict_goal_diff</th>\n",
       "    </tr>\n",
       "  </thead>\n",
       "  <tbody>\n",
       "    <tr>\n",
       "      <th>3645</th>\n",
       "      <td>157</td>\n",
       "      <td>211</td>\n",
       "      <td>-1</td>\n",
       "      <td>0</td>\n",
       "    </tr>\n",
       "    <tr>\n",
       "      <th>178</th>\n",
       "      <td>210</td>\n",
       "      <td>94</td>\n",
       "      <td>-1</td>\n",
       "      <td>0</td>\n",
       "    </tr>\n",
       "    <tr>\n",
       "      <th>7550</th>\n",
       "      <td>210</td>\n",
       "      <td>1786</td>\n",
       "      <td>-1</td>\n",
       "      <td>0</td>\n",
       "    </tr>\n",
       "    <tr>\n",
       "      <th>2179</th>\n",
       "      <td>157</td>\n",
       "      <td>142</td>\n",
       "      <td>-3</td>\n",
       "      <td>0</td>\n",
       "    </tr>\n",
       "    <tr>\n",
       "      <th>5340</th>\n",
       "      <td>194</td>\n",
       "      <td>94</td>\n",
       "      <td>-3</td>\n",
       "      <td>0</td>\n",
       "    </tr>\n",
       "  </tbody>\n",
       "</table>\n",
       "</div>"
      ],
      "text/plain": [
       "      home_team_id  away_team_id  full_time_goal_diff  predict_goal_diff\n",
       "3645           157           211                   -1                  0\n",
       "178            210            94                   -1                  0\n",
       "7550           210          1786                   -1                  0\n",
       "2179           157           142                   -3                  0\n",
       "5340           194            94                   -3                  0"
      ]
     },
     "execution_count": 105,
     "metadata": {},
     "output_type": "execute_result"
    }
   ],
   "source": [
    "test_df_predict = test_df[['home_team_id','away_team_id','full_time_goal_diff']]\n",
    "test_df_predict['predict_goal_diff']=0\n",
    "test_df_predict.head()"
   ]
  },
  {
   "cell_type": "code",
   "execution_count": 96,
   "metadata": {
    "collapsed": false
   },
   "outputs": [],
   "source": [
    "for index, row in test_df_predict.iterrows():\n",
    "    predicted_diff=predict_diff(row['home_team_id'],row['away_team_id'])[0]    \n",
    "    #print(row['full_time_goal_diff'],\":\",predicted_diff)\n",
    "    row['predict_goal_diff']=predicted_diff"
   ]
  },
  {
   "cell_type": "code",
   "execution_count": 97,
   "metadata": {
    "collapsed": false
   },
   "outputs": [
    {
     "data": {
      "text/html": [
       "<div>\n",
       "<table border=\"1\" class=\"dataframe\">\n",
       "  <thead>\n",
       "    <tr style=\"text-align: right;\">\n",
       "      <th></th>\n",
       "      <th>home_team_id</th>\n",
       "      <th>away_team_id</th>\n",
       "      <th>full_time_goal_diff</th>\n",
       "      <th>predict_goal_diff</th>\n",
       "    </tr>\n",
       "  </thead>\n",
       "  <tbody>\n",
       "    <tr>\n",
       "      <th>3645</th>\n",
       "      <td>157</td>\n",
       "      <td>211</td>\n",
       "      <td>-1</td>\n",
       "      <td>4</td>\n",
       "    </tr>\n",
       "    <tr>\n",
       "      <th>178</th>\n",
       "      <td>210</td>\n",
       "      <td>94</td>\n",
       "      <td>-1</td>\n",
       "      <td>-6</td>\n",
       "    </tr>\n",
       "    <tr>\n",
       "      <th>7550</th>\n",
       "      <td>210</td>\n",
       "      <td>1786</td>\n",
       "      <td>-1</td>\n",
       "      <td>-4</td>\n",
       "    </tr>\n",
       "    <tr>\n",
       "      <th>2179</th>\n",
       "      <td>157</td>\n",
       "      <td>142</td>\n",
       "      <td>-3</td>\n",
       "      <td>0</td>\n",
       "    </tr>\n",
       "    <tr>\n",
       "      <th>5340</th>\n",
       "      <td>194</td>\n",
       "      <td>94</td>\n",
       "      <td>-3</td>\n",
       "      <td>0</td>\n",
       "    </tr>\n",
       "    <tr>\n",
       "      <th>3315</th>\n",
       "      <td>158</td>\n",
       "      <td>94</td>\n",
       "      <td>-1</td>\n",
       "      <td>0</td>\n",
       "    </tr>\n",
       "    <tr>\n",
       "      <th>1248</th>\n",
       "      <td>25</td>\n",
       "      <td>171</td>\n",
       "      <td>1</td>\n",
       "      <td>0</td>\n",
       "    </tr>\n",
       "    <tr>\n",
       "      <th>8333</th>\n",
       "      <td>161</td>\n",
       "      <td>171</td>\n",
       "      <td>-1</td>\n",
       "      <td>-2</td>\n",
       "    </tr>\n",
       "    <tr>\n",
       "      <th>2978</th>\n",
       "      <td>158</td>\n",
       "      <td>166</td>\n",
       "      <td>0</td>\n",
       "      <td>-7</td>\n",
       "    </tr>\n",
       "    <tr>\n",
       "      <th>1518</th>\n",
       "      <td>161</td>\n",
       "      <td>20</td>\n",
       "      <td>-1</td>\n",
       "      <td>-1</td>\n",
       "    </tr>\n",
       "    <tr>\n",
       "      <th>7658</th>\n",
       "      <td>182</td>\n",
       "      <td>181</td>\n",
       "      <td>-1</td>\n",
       "      <td>5</td>\n",
       "    </tr>\n",
       "    <tr>\n",
       "      <th>1070</th>\n",
       "      <td>194</td>\n",
       "      <td>211</td>\n",
       "      <td>-1</td>\n",
       "      <td>3</td>\n",
       "    </tr>\n",
       "    <tr>\n",
       "      <th>1801</th>\n",
       "      <td>182</td>\n",
       "      <td>165</td>\n",
       "      <td>2</td>\n",
       "      <td>3</td>\n",
       "    </tr>\n",
       "    <tr>\n",
       "      <th>2733</th>\n",
       "      <td>142</td>\n",
       "      <td>194</td>\n",
       "      <td>0</td>\n",
       "      <td>1</td>\n",
       "    </tr>\n",
       "    <tr>\n",
       "      <th>2991</th>\n",
       "      <td>1786</td>\n",
       "      <td>23</td>\n",
       "      <td>-1</td>\n",
       "      <td>5</td>\n",
       "    </tr>\n",
       "    <tr>\n",
       "      <th>7698</th>\n",
       "      <td>161</td>\n",
       "      <td>19</td>\n",
       "      <td>-1</td>\n",
       "      <td>-3</td>\n",
       "    </tr>\n",
       "    <tr>\n",
       "      <th>5675</th>\n",
       "      <td>1786</td>\n",
       "      <td>210</td>\n",
       "      <td>1</td>\n",
       "      <td>0</td>\n",
       "    </tr>\n",
       "    <tr>\n",
       "      <th>8155</th>\n",
       "      <td>157</td>\n",
       "      <td>182</td>\n",
       "      <td>1</td>\n",
       "      <td>0</td>\n",
       "    </tr>\n",
       "    <tr>\n",
       "      <th>5367</th>\n",
       "      <td>188</td>\n",
       "      <td>142</td>\n",
       "      <td>-1</td>\n",
       "      <td>0</td>\n",
       "    </tr>\n",
       "    <tr>\n",
       "      <th>9141</th>\n",
       "      <td>142</td>\n",
       "      <td>182</td>\n",
       "      <td>0</td>\n",
       "      <td>0</td>\n",
       "    </tr>\n",
       "    <tr>\n",
       "      <th>6522</th>\n",
       "      <td>188</td>\n",
       "      <td>211</td>\n",
       "      <td>0</td>\n",
       "      <td>4</td>\n",
       "    </tr>\n",
       "    <tr>\n",
       "      <th>1423</th>\n",
       "      <td>158</td>\n",
       "      <td>189</td>\n",
       "      <td>1</td>\n",
       "      <td>0</td>\n",
       "    </tr>\n",
       "    <tr>\n",
       "      <th>3337</th>\n",
       "      <td>170</td>\n",
       "      <td>20</td>\n",
       "      <td>0</td>\n",
       "      <td>0</td>\n",
       "    </tr>\n",
       "    <tr>\n",
       "      <th>6886</th>\n",
       "      <td>157</td>\n",
       "      <td>24</td>\n",
       "      <td>0</td>\n",
       "      <td>6</td>\n",
       "    </tr>\n",
       "    <tr>\n",
       "      <th>7781</th>\n",
       "      <td>170</td>\n",
       "      <td>94</td>\n",
       "      <td>5</td>\n",
       "      <td>0</td>\n",
       "    </tr>\n",
       "    <tr>\n",
       "      <th>2432</th>\n",
       "      <td>211</td>\n",
       "      <td>24</td>\n",
       "      <td>0</td>\n",
       "      <td>9</td>\n",
       "    </tr>\n",
       "    <tr>\n",
       "      <th>7571</th>\n",
       "      <td>19</td>\n",
       "      <td>189</td>\n",
       "      <td>1</td>\n",
       "      <td>-3</td>\n",
       "    </tr>\n",
       "    <tr>\n",
       "      <th>4700</th>\n",
       "      <td>158</td>\n",
       "      <td>161</td>\n",
       "      <td>0</td>\n",
       "      <td>0</td>\n",
       "    </tr>\n",
       "    <tr>\n",
       "      <th>5044</th>\n",
       "      <td>19</td>\n",
       "      <td>24</td>\n",
       "      <td>2</td>\n",
       "      <td>1</td>\n",
       "    </tr>\n",
       "    <tr>\n",
       "      <th>3616</th>\n",
       "      <td>188</td>\n",
       "      <td>166</td>\n",
       "      <td>1</td>\n",
       "      <td>-7</td>\n",
       "    </tr>\n",
       "    <tr>\n",
       "      <th>9221</th>\n",
       "      <td>168</td>\n",
       "      <td>166</td>\n",
       "      <td>-1</td>\n",
       "      <td>-9</td>\n",
       "    </tr>\n",
       "    <tr>\n",
       "      <th>6619</th>\n",
       "      <td>211</td>\n",
       "      <td>168</td>\n",
       "      <td>5</td>\n",
       "      <td>5</td>\n",
       "    </tr>\n",
       "    <tr>\n",
       "      <th>910</th>\n",
       "      <td>168</td>\n",
       "      <td>189</td>\n",
       "      <td>5</td>\n",
       "      <td>-1</td>\n",
       "    </tr>\n",
       "    <tr>\n",
       "      <th>445</th>\n",
       "      <td>20</td>\n",
       "      <td>210</td>\n",
       "      <td>3</td>\n",
       "      <td>-1</td>\n",
       "    </tr>\n",
       "    <tr>\n",
       "      <th>2757</th>\n",
       "      <td>174</td>\n",
       "      <td>161</td>\n",
       "      <td>-2</td>\n",
       "      <td>-3</td>\n",
       "    </tr>\n",
       "    <tr>\n",
       "      <th>6357</th>\n",
       "      <td>188</td>\n",
       "      <td>194</td>\n",
       "      <td>-1</td>\n",
       "      <td>1</td>\n",
       "    </tr>\n",
       "    <tr>\n",
       "      <th>7480</th>\n",
       "      <td>174</td>\n",
       "      <td>23</td>\n",
       "      <td>1</td>\n",
       "      <td>-1</td>\n",
       "    </tr>\n",
       "    <tr>\n",
       "      <th>9121</th>\n",
       "      <td>170</td>\n",
       "      <td>25</td>\n",
       "      <td>0</td>\n",
       "      <td>-1</td>\n",
       "    </tr>\n",
       "    <tr>\n",
       "      <th>4222</th>\n",
       "      <td>171</td>\n",
       "      <td>24</td>\n",
       "      <td>-1</td>\n",
       "      <td>2</td>\n",
       "    </tr>\n",
       "    <tr>\n",
       "      <th>8268</th>\n",
       "      <td>20</td>\n",
       "      <td>25</td>\n",
       "      <td>2</td>\n",
       "      <td>-1</td>\n",
       "    </tr>\n",
       "    <tr>\n",
       "      <th>6061</th>\n",
       "      <td>171</td>\n",
       "      <td>161</td>\n",
       "      <td>-1</td>\n",
       "      <td>-2</td>\n",
       "    </tr>\n",
       "    <tr>\n",
       "      <th>870</th>\n",
       "      <td>165</td>\n",
       "      <td>174</td>\n",
       "      <td>-2</td>\n",
       "      <td>0</td>\n",
       "    </tr>\n",
       "    <tr>\n",
       "      <th>2613</th>\n",
       "      <td>25</td>\n",
       "      <td>210</td>\n",
       "      <td>1</td>\n",
       "      <td>-2</td>\n",
       "    </tr>\n",
       "    <tr>\n",
       "      <th>2497</th>\n",
       "      <td>25</td>\n",
       "      <td>181</td>\n",
       "      <td>1</td>\n",
       "      <td>2</td>\n",
       "    </tr>\n",
       "    <tr>\n",
       "      <th>6493</th>\n",
       "      <td>19</td>\n",
       "      <td>23</td>\n",
       "      <td>-2</td>\n",
       "      <td>-1</td>\n",
       "    </tr>\n",
       "    <tr>\n",
       "      <th>7222</th>\n",
       "      <td>194</td>\n",
       "      <td>165</td>\n",
       "      <td>-1</td>\n",
       "      <td>1</td>\n",
       "    </tr>\n",
       "    <tr>\n",
       "      <th>6344</th>\n",
       "      <td>194</td>\n",
       "      <td>20</td>\n",
       "      <td>-1</td>\n",
       "      <td>0</td>\n",
       "    </tr>\n",
       "    <tr>\n",
       "      <th>6237</th>\n",
       "      <td>181</td>\n",
       "      <td>161</td>\n",
       "      <td>0</td>\n",
       "      <td>2</td>\n",
       "    </tr>\n",
       "    <tr>\n",
       "      <th>4395</th>\n",
       "      <td>24</td>\n",
       "      <td>1786</td>\n",
       "      <td>1</td>\n",
       "      <td>8</td>\n",
       "    </tr>\n",
       "    <tr>\n",
       "      <th>7543</th>\n",
       "      <td>24</td>\n",
       "      <td>194</td>\n",
       "      <td>1</td>\n",
       "      <td>6</td>\n",
       "    </tr>\n",
       "    <tr>\n",
       "      <th>4467</th>\n",
       "      <td>171</td>\n",
       "      <td>168</td>\n",
       "      <td>1</td>\n",
       "      <td>-1</td>\n",
       "    </tr>\n",
       "    <tr>\n",
       "      <th>6803</th>\n",
       "      <td>142</td>\n",
       "      <td>158</td>\n",
       "      <td>2</td>\n",
       "      <td>3</td>\n",
       "    </tr>\n",
       "    <tr>\n",
       "      <th>1449</th>\n",
       "      <td>142</td>\n",
       "      <td>168</td>\n",
       "      <td>1</td>\n",
       "      <td>2</td>\n",
       "    </tr>\n",
       "    <tr>\n",
       "      <th>3605</th>\n",
       "      <td>94</td>\n",
       "      <td>1786</td>\n",
       "      <td>3</td>\n",
       "      <td>2</td>\n",
       "    </tr>\n",
       "    <tr>\n",
       "      <th>3447</th>\n",
       "      <td>189</td>\n",
       "      <td>188</td>\n",
       "      <td>0</td>\n",
       "      <td>0</td>\n",
       "    </tr>\n",
       "  </tbody>\n",
       "</table>\n",
       "</div>"
      ],
      "text/plain": [
       "      home_team_id  away_team_id  full_time_goal_diff  predict_goal_diff\n",
       "3645           157           211                   -1                  4\n",
       "178            210            94                   -1                 -6\n",
       "7550           210          1786                   -1                 -4\n",
       "2179           157           142                   -3                  0\n",
       "5340           194            94                   -3                  0\n",
       "3315           158            94                   -1                  0\n",
       "1248            25           171                    1                  0\n",
       "8333           161           171                   -1                 -2\n",
       "2978           158           166                    0                 -7\n",
       "1518           161            20                   -1                 -1\n",
       "7658           182           181                   -1                  5\n",
       "1070           194           211                   -1                  3\n",
       "1801           182           165                    2                  3\n",
       "2733           142           194                    0                  1\n",
       "2991          1786            23                   -1                  5\n",
       "7698           161            19                   -1                 -3\n",
       "5675          1786           210                    1                  0\n",
       "8155           157           182                    1                  0\n",
       "5367           188           142                   -1                  0\n",
       "9141           142           182                    0                  0\n",
       "6522           188           211                    0                  4\n",
       "1423           158           189                    1                  0\n",
       "3337           170            20                    0                  0\n",
       "6886           157            24                    0                  6\n",
       "7781           170            94                    5                  0\n",
       "2432           211            24                    0                  9\n",
       "7571            19           189                    1                 -3\n",
       "4700           158           161                    0                  0\n",
       "5044            19            24                    2                  1\n",
       "3616           188           166                    1                 -7\n",
       "9221           168           166                   -1                 -9\n",
       "6619           211           168                    5                  5\n",
       "910            168           189                    5                 -1\n",
       "445             20           210                    3                 -1\n",
       "2757           174           161                   -2                 -3\n",
       "6357           188           194                   -1                  1\n",
       "7480           174            23                    1                 -1\n",
       "9121           170            25                    0                 -1\n",
       "4222           171            24                   -1                  2\n",
       "8268            20            25                    2                 -1\n",
       "6061           171           161                   -1                 -2\n",
       "870            165           174                   -2                  0\n",
       "2613            25           210                    1                 -2\n",
       "2497            25           181                    1                  2\n",
       "6493            19            23                   -2                 -1\n",
       "7222           194           165                   -1                  1\n",
       "6344           194            20                   -1                  0\n",
       "6237           181           161                    0                  2\n",
       "4395            24          1786                    1                  8\n",
       "7543            24           194                    1                  6\n",
       "4467           171           168                    1                 -1\n",
       "6803           142           158                    2                  3\n",
       "1449           142           168                    1                  2\n",
       "3605            94          1786                    3                  2\n",
       "3447           189           188                    0                  0"
      ]
     },
     "execution_count": 97,
     "metadata": {},
     "output_type": "execute_result"
    }
   ],
   "source": [
    "test_df_predict"
   ]
  },
  {
   "cell_type": "code",
   "execution_count": 98,
   "metadata": {
    "collapsed": false
   },
   "outputs": [],
   "source": [
    "import clean_sofifa_data as sofifa\n",
    "sofifa_df = sofifa.get_cleaned_sofifa_data()"
   ]
  },
  {
   "cell_type": "code",
   "execution_count": 99,
   "metadata": {
    "collapsed": false
   },
   "outputs": [
    {
     "data": {
      "text/html": [
       "<div>\n",
       "<table border=\"1\" class=\"dataframe\">\n",
       "  <thead>\n",
       "    <tr style=\"text-align: right;\">\n",
       "      <th></th>\n",
       "      <th>home_team_id</th>\n",
       "      <th>home_team</th>\n",
       "      <th>datetime</th>\n",
       "    </tr>\n",
       "  </thead>\n",
       "  <tbody>\n",
       "    <tr>\n",
       "      <th>7535</th>\n",
       "      <td>170</td>\n",
       "      <td>Fulham</td>\n",
       "      <td>2016-08-05</td>\n",
       "    </tr>\n",
       "    <tr>\n",
       "      <th>1799</th>\n",
       "      <td>157</td>\n",
       "      <td>Birmingham</td>\n",
       "      <td>2016-08-06</td>\n",
       "    </tr>\n",
       "    <tr>\n",
       "      <th>788</th>\n",
       "      <td>158</td>\n",
       "      <td>Blackburn</td>\n",
       "      <td>2016-08-06</td>\n",
       "    </tr>\n",
       "    <tr>\n",
       "      <th>5650</th>\n",
       "      <td>182</td>\n",
       "      <td>Bristol City</td>\n",
       "      <td>2016-08-06</td>\n",
       "    </tr>\n",
       "    <tr>\n",
       "      <th>5907</th>\n",
       "      <td>20</td>\n",
       "      <td>Derby</td>\n",
       "      <td>2016-08-06</td>\n",
       "    </tr>\n",
       "  </tbody>\n",
       "</table>\n",
       "</div>"
      ],
      "text/plain": [
       "      home_team_id     home_team   datetime\n",
       "7535           170        Fulham 2016-08-05\n",
       "1799           157    Birmingham 2016-08-06\n",
       "788            158     Blackburn 2016-08-06\n",
       "5650           182  Bristol City 2016-08-06\n",
       "5907            20         Derby 2016-08-06"
      ]
     },
     "execution_count": 99,
     "metadata": {},
     "output_type": "execute_result"
    }
   ],
   "source": [
    "df['datetime']=pd.to_datetime(df['date'])\n",
    "df[['home_team_id','home_team','datetime']].head()"
   ]
  },
  {
   "cell_type": "code",
   "execution_count": 108,
   "metadata": {
    "collapsed": false
   },
   "outputs": [
    {
     "data": {
      "text/html": [
       "<div>\n",
       "<table border=\"1\" class=\"dataframe\">\n",
       "  <thead>\n",
       "    <tr style=\"text-align: right;\">\n",
       "      <th></th>\n",
       "      <th>clubs</th>\n",
       "      <th>overall</th>\n",
       "      <th>attack</th>\n",
       "      <th>midfield</th>\n",
       "      <th>defence</th>\n",
       "      <th>starting_avg_age</th>\n",
       "      <th>whole_team_avg_age</th>\n",
       "      <th>build_up_play_speed</th>\n",
       "      <th>build_up_play_dribbling</th>\n",
       "      <th>build_up_play_passing</th>\n",
       "      <th>...</th>\n",
       "      <th>chance_creation_positioning</th>\n",
       "      <th>defence_pressure</th>\n",
       "      <th>defence_aggression</th>\n",
       "      <th>defence_team_width</th>\n",
       "      <th>defence_defender_line</th>\n",
       "      <th>sofifa_team_id</th>\n",
       "      <th>transfer_budget_total</th>\n",
       "      <th>fifa_edition</th>\n",
       "      <th>last_update_datetime</th>\n",
       "      <th>whoscored_team_id</th>\n",
       "    </tr>\n",
       "  </thead>\n",
       "  <tbody>\n",
       "    <tr>\n",
       "      <th>2201</th>\n",
       "      <td>Fulham</td>\n",
       "      <td>70</td>\n",
       "      <td>71</td>\n",
       "      <td>70</td>\n",
       "      <td>69</td>\n",
       "      <td>24.3</td>\n",
       "      <td>23.8</td>\n",
       "      <td>39</td>\n",
       "      <td>41</td>\n",
       "      <td>57</td>\n",
       "      <td>...</td>\n",
       "      <td>Organised</td>\n",
       "      <td>31</td>\n",
       "      <td>37</td>\n",
       "      <td>39</td>\n",
       "      <td>Cover</td>\n",
       "      <td>144</td>\n",
       "      <td>1000000.0</td>\n",
       "      <td>FIFA 16</td>\n",
       "      <td>2016-08-04</td>\n",
       "      <td>170</td>\n",
       "    </tr>\n",
       "  </tbody>\n",
       "</table>\n",
       "<p>1 rows × 24 columns</p>\n",
       "</div>"
      ],
      "text/plain": [
       "       clubs  overall  attack  midfield  defence  starting_avg_age  \\\n",
       "2201  Fulham       70      71        70       69              24.3   \n",
       "\n",
       "      whole_team_avg_age  build_up_play_speed  build_up_play_dribbling  \\\n",
       "2201                23.8                   39                       41   \n",
       "\n",
       "      build_up_play_passing        ...         chance_creation_positioning  \\\n",
       "2201                     57        ...                           Organised   \n",
       "\n",
       "      defence_pressure  defence_aggression  defence_team_width  \\\n",
       "2201                31                  37                  39   \n",
       "\n",
       "     defence_defender_line  sofifa_team_id  transfer_budget_total  \\\n",
       "2201                 Cover             144              1000000.0   \n",
       "\n",
       "      fifa_edition last_update_datetime  whoscored_team_id  \n",
       "2201       FIFA 16           2016-08-04                170  \n",
       "\n",
       "[1 rows x 24 columns]"
      ]
     },
     "execution_count": 108,
     "metadata": {},
     "output_type": "execute_result"
    }
   ],
   "source": [
    "import datetime\n",
    "sofifa_df.whoscored_team_id\n",
    "sofifa_df.loc[(sofifa_df.whoscored_team_id == 170) & (sofifa_df.last_update_datetime<'2016-08-05')].sort_values(by='last_update_datetime', ascending=0).head(1)"
   ]
  }
 ],
 "metadata": {
  "kernelspec": {
   "display_name": "Python 3",
   "language": "python",
   "name": "python3"
  },
  "language_info": {
   "codemirror_mode": {
    "name": "ipython",
    "version": 3
   },
   "file_extension": ".py",
   "mimetype": "text/x-python",
   "name": "python",
   "nbconvert_exporter": "python",
   "pygments_lexer": "ipython3",
   "version": "3.5.2"
  }
 },
 "nbformat": 4,
 "nbformat_minor": 1
}
